{
 "cells": [
  {
   "cell_type": "code",
   "execution_count": null,
   "metadata": {},
   "outputs": [],
   "source": [
    "user_input = input()\n",
    "\n",
    "\n",
    "input_data = []\n",
    "for i in range(int(user_input.split()[0])):\n",
    "    input_data.append(input().split())"
   ]
  },
  {
   "cell_type": "code",
   "execution_count": 32,
   "metadata": {},
   "outputs": [],
   "source": [
    "input_data = [['0', '1', '0', '0', '0']\n",
    "            , ['0', '0', '1', '0', '0']\n",
    "            , ['0', '0', '0', '0',' 1']\n",
    "            , ['1', '0', '0', '0', '0']\n",
    "            , ['0', '0', '1', '0', '0']]"
   ]
  },
  {
   "cell_type": "code",
   "execution_count": 34,
   "metadata": {},
   "outputs": [
    {
     "data": {
      "text/plain": [
       "4"
      ]
     },
     "execution_count": 34,
     "metadata": {},
     "output_type": "execute_result"
    }
   ],
   "source": [
    "\n",
    "max_col_index = 0\n",
    "\n",
    "for col in input_data:\n",
    "    if '1' in col:\n",
    "        one_col_index = len(col) - 1 - col.index('1')\n",
    "        if  one_col_index > max_col_index:\n",
    "            max_col_index = one_col_index\n",
    "\n",
    "max_col_index\n",
    "\n"
   ]
  },
  {
   "cell_type": "code",
   "execution_count": 35,
   "metadata": {},
   "outputs": [
    {
     "name": "stdout",
     "output_type": "stream",
     "text": [
      "4\n"
     ]
    }
   ],
   "source": [
    "max_row_index = 0\n",
    "for idx, row in enumerate(input_data):\n",
    "\n",
    "    if '1' in row:\n",
    "        one_row_index = len(row) -1 - idx\n",
    "        if one_row_index > max_row_index:\n",
    "            max_row_index = one_row_index\n",
    "print(max_row_index)"
   ]
  },
  {
   "cell_type": "code",
   "execution_count": 128,
   "metadata": {},
   "outputs": [
    {
     "name": "stdout",
     "output_type": "stream",
     "text": [
      "7\n"
     ]
    }
   ],
   "source": [
    "user_input = int(input())\n",
    "\n",
    "sum  = 0\n",
    "\n",
    "for i in range(3, 1000, 4):\n",
    "    sum += i\n",
    "    if sum > user_input :\n",
    "        break\n",
    "paper = sum - user_input\n",
    "num = paper // 2\n",
    "print(num)\n"
   ]
  },
  {
   "cell_type": "code",
   "execution_count": 134,
   "metadata": {},
   "outputs": [
    {
     "name": "stdout",
     "output_type": "stream",
     "text": [
      "2 6\n"
     ]
    }
   ],
   "source": [
    "user_input = input()\n",
    "user_count = user_input.split()[0]\n",
    "order_count = user_input.split()[1]\n",
    "print(user_count, order_count)"
   ]
  },
  {
   "cell_type": "code",
   "execution_count": 136,
   "metadata": {},
   "outputs": [],
   "source": [
    "delete = []\n",
    "msg_dic = {}\n",
    "\n",
    "for input_num in range(int(order_count)):\n",
    "    data = input()\n",
    "    data_ = data.split()  # 입력받은 걸 공백을 기준으로 리스트에 추가\n",
    "\n",
    "    if data_[0].isdigit() and data_[1].isdigit():\n",
    "        if data not in delete:\n",
    "            delete.append(data)\n",
    "\n",
    "    else:\n",
    "        key = data_[0] # 딕셔너리에 key값과 value값 추가\n",
    "        value = data_[1]\n",
    "\n",
    "        if key in msg_dic: # 만약 동일한 키값이 들어온다면\n",
    "            msg_dic[key].append(value) # 수정이 아닌 추가로 \n",
    "        else:\n",
    "            msg_dic[key] = [value] \n",
    "\n",
    "for del_num in delete:\n",
    "    find_key = del_num.split()[0]\n",
    "    if find_key in msg_dic and len(msg_dic[find_key]) > 0:\n",
    "        msg_dic[find_key].pop(0)\n",
    "\n",
    "\n",
    "if len(msg_dic) == 0 :\n",
    "    print(\"EMPTY\")\n",
    "else :\n",
    "    for key, values in msg_dic.items():\n",
    "        for value in values:\n",
    "            print(f\"{key} {value}\")\n"
   ]
  },
  {
   "cell_type": "code",
   "execution_count": 170,
   "metadata": {},
   "outputs": [
    {
     "name": "stdout",
     "output_type": "stream",
     "text": [
      "['1 1', '1 2', '2 1']\n",
      "1 1\n",
      "1 2\n",
      "2 1\n",
      "1 h\n",
      "1 g\n",
      "2 y\n"
     ]
    }
   ],
   "source": [
    "delete = []\n",
    "msg_dic = {}\n",
    "\n",
    "order_count = int(input(\"Enter the order count: \"))\n",
    "\n",
    "for input_num in range(order_count):\n",
    "    data = input()\n",
    "    data_ = data.split()\n",
    "\n",
    "    if data_[0].isdigit() and data_[1].isdigit():\n",
    "        if data not in delete:\n",
    "            delete.append(data)\n",
    "    else:\n",
    "        key = data_[0]\n",
    "        value = data_[1]\n",
    "\n",
    "        if key in msg_dic:\n",
    "            msg_dic[key].append(value)\n",
    "        else:\n",
    "            msg_dic[key] = [value]\n",
    "print(delete)\n",
    "for del_num in delete:\n",
    "    find_key = int(del_num.split()[0])\n",
    "    find_value = int(del_num.split()[1])\n",
    "    print(find_key, find_value)\n",
    "    if find_key in msg_dic and 0 < find_value <= len(msg_dic[find_key]):\n",
    "        msg_dic[find_key].pop(find_value - 1)\n",
    "# print(msg_dic)\n",
    "\n",
    "if not any(msg_dic.values()):\n",
    "    print(\"EMPTY\")\n",
    "else:\n",
    "    for key, values in msg_dic.items():\n",
    "        for value in values:\n",
    "            print(f\"{key} {value}\")\n"
   ]
  },
  {
   "cell_type": "code",
   "execution_count": 164,
   "metadata": {},
   "outputs": [],
   "source": [
    "dellsit = \"1 1\"\n",
    "dic = {1: [\"hi\", 'fs']}\n",
    "\n",
    "find_key = int(dellsit.split()[0])\n",
    "find_value = int(dellsit.split()[1])\n",
    "\n",
    "# find_value에 해당하는 값을 삭제\n",
    "if find_key in dic and 0 < find_value <= len(dic[find_key]):\n",
    "    dic[find_key].pop(find_value - 1)"
   ]
  },
  {
   "cell_type": "code",
   "execution_count": 165,
   "metadata": {},
   "outputs": [
    {
     "data": {
      "text/plain": [
       "{1: ['fs']}"
      ]
     },
     "execution_count": 165,
     "metadata": {},
     "output_type": "execute_result"
    }
   ],
   "source": [
    "dic"
   ]
  },
  {
   "cell_type": "code",
   "execution_count": 8,
   "metadata": {},
   "outputs": [],
   "source": [
    "import requests\n",
    "\n",
    "url = \"http://43.203.142.141:30000/\"\n",
    "\n",
    "data = [requests.get(url).text.strip() for x in range(1000)]\n"
   ]
  },
  {
   "cell_type": "code",
   "execution_count": 9,
   "metadata": {},
   "outputs": [
    {
     "data": {
      "text/plain": [
       "(array(['np-pods-7d77fcf75b-4d998', 'np-pods-7d77fcf75b-c6cr7',\n",
       "        'np-pods-7d77fcf75b-sfz45'], dtype='<U24'),\n",
       " array([353, 313, 334]))"
      ]
     },
     "execution_count": 9,
     "metadata": {},
     "output_type": "execute_result"
    }
   ],
   "source": [
    "import numpy as np\n",
    "np.unique(data, return_counts= True)"
   ]
  },
  {
   "cell_type": "code",
   "execution_count": null,
   "metadata": {},
   "outputs": [],
   "source": []
  }
 ],
 "metadata": {
  "kernelspec": {
   "display_name": ".venv",
   "language": "python",
   "name": "python3"
  },
  "language_info": {
   "codemirror_mode": {
    "name": "ipython",
    "version": 3
   },
   "file_extension": ".py",
   "mimetype": "text/x-python",
   "name": "python",
   "nbconvert_exporter": "python",
   "pygments_lexer": "ipython3",
   "version": "3.11.7"
  }
 },
 "nbformat": 4,
 "nbformat_minor": 2
}
